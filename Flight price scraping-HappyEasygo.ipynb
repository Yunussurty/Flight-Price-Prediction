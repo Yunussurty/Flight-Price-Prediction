{
 "cells": [
  {
   "cell_type": "markdown",
   "id": "06c3d5cb",
   "metadata": {},
   "source": [
    "## Flight price scraping-HappyEasygo"
   ]
  },
  {
   "cell_type": "markdown",
   "id": "d4bc5d72",
   "metadata": {},
   "source": [
    "##### I was not able to scrape the data as website will put the 'I am not a robot' check. This happened on all the website like cleartrip and skyscanner"
   ]
  },
  {
   "cell_type": "code",
   "execution_count": 1,
   "id": "db49a5e3",
   "metadata": {},
   "outputs": [],
   "source": [
    "import pandas as pd\n",
    "import selenium\n",
    "from selenium import webdriver\n",
    "import time\n",
    "from selenium.webdriver.common.keys import Keys\n",
    "from selenium.common.exceptions import StaleElementReferenceException, NoSuchElementException\n",
    "from selenium.webdriver.support.ui import WebDriverWait\n",
    "from selenium.webdriver.support import expected_conditions as EC\n",
    "from selenium.webdriver.common.desired_capabilities import DesiredCapabilities\n",
    "import requests"
   ]
  },
  {
   "cell_type": "code",
   "execution_count": 24,
   "id": "dbf47913",
   "metadata": {},
   "outputs": [
    {
     "data": {
      "text/plain": [
       "<Response [200]>"
      ]
     },
     "execution_count": 24,
     "metadata": {},
     "output_type": "execute_result"
    }
   ],
   "source": [
    "response=requests.get('https://www.happyeasygo.com')\n",
    "response"
   ]
  },
  {
   "cell_type": "code",
   "execution_count": 3,
   "id": "a79734be",
   "metadata": {},
   "outputs": [],
   "source": [
    "source=['MAA','DEL','BOM']\n",
    "destination=['BLR','COK','DEL','HYD']\n",
    "\n",
    "date=['2021-11-04','2021-11-20','2021-12-15','2021-12-25','2022-01-01','2022-01-17','2022-02-03','2022-02-28','2022-03-14','2022-03-31','2022-04-20','2022-05-01',\n",
    "      '2022-05-27','2022-06-06','2022-07-07']"
   ]
  },
  {
   "cell_type": "code",
   "execution_count": null,
   "id": "46ef6bfe",
   "metadata": {},
   "outputs": [],
   "source": [
    "airline=[]\n",
    "doj=[]\n",
    "origin=[]\n",
    "f_destination=[]\n",
    "dep_time=[]\n",
    "arr_time=[]\n",
    "duration=[]\n",
    "total_stop=[]\n",
    "price=[]\n",
    "\n",
    "capa = DesiredCapabilities.CHROME\n",
    "capa[\"pageLoadStrategy\"] = \"eager\" #since webpage has long loading time. This command will start scraping once \n",
    "driver = webdriver.Chrome(desired_capabilities=capa)  #the html is loaded.\n",
    "\n",
    "for i in date:\n",
    "    for j in source:\n",
    "        for k in destination:\n",
    "            if j!=k:\n",
    "                url='https://www.happyeasygo.com/flights/{}-{}/{}?tripType=0&adults=1&childs=0&baby=0&cabinClass=Economy&airline=&carrier='.format(j,k,i)\n",
    "                driver.get(url)\n",
    "                time.sleep(5)\n",
    "                \n",
    "               #first we will scrape the data for non stop flights\n",
    "                driver.find_element_by_xpath(\"//div[@class='lowest-price']\").click()\n",
    "                \n",
    "                for l in driver.find_elements_by_xpath(\"//div[@class='flight-title P-ellipsis']\"):\n",
    "                    airline.append(l.text)\n",
    "                    doj.append(i)\n",
    "                    origin.append(j)\n",
    "                    f_destination.append(k)\n",
    "                    \n",
    "                for l in driver.find_elements_by_xpath(\"//div[@class='o-vendor flight-stop ']\"):\n",
    "                    total_stop.append(l.text)\n",
    "            \n",
    "                for l in driver.find_elements_by_xpath(\"//span[@class='o-time-bold o-time_line']\"):\n",
    "                    dep_time.append(l.text)\n",
    "                \n",
    "                for l in driver.find_elements_by_xpath(\"//span[@class='o-time-bold']\"):\n",
    "                    arr_time.append(l.text.replace('\\n+1',''))\n",
    "                \n",
    "                for l in driver.find_elements_by_xpath(\"//div[@class='o-vendor fly-time']\"):\n",
    "                    duration.append(l.text)\n",
    "                    \n",
    "                for l in driver.find_elements_by_xpath(\"//span[@class='price-from-second']\"):\n",
    "                    price.append(l.text.replace('₹ ','').replace(',',''))\n",
    "                    \n",
    "                    \n",
    "                #now we will scrape the data from flights with one stop or more\n",
    "                driver.find_element_by_xpath(\"//div[@class='lowest-price']\").click()\n",
    "                \n",
    "                driver.find_element_by_xpath(\"//*[@id='stopsFilter']/li[2]/div[1]\").click()\n",
    "                driver.find_element_by_xpath(\"//*[@id='stopsFilter']/li[3]/div[1]\").click()\n",
    "                \n",
    "                for l in driver.find_elements_by_xpath(\"//div[@class='flight-title P-ellipsis']\"):\n",
    "                    airline.append(l.text)\n",
    "                    doj.append(i)\n",
    "                    origin.append(j)\n",
    "                    f_destination.append(k)\n",
    "                    \n",
    "            \n",
    "                for l in driver.find_elements_by_xpath(\"//span[@class='o-time-bold o-time_line']\"):\n",
    "                    dep_time.append(l.text)\n",
    "                \n",
    "                for l in driver.find_elements_by_xpath(\"//span[@class='o-time-bold']\"):\n",
    "                    arr_time.append(l.text.replace('\\n+1',''))\n",
    "                \n",
    "                for l in driver.find_elements_by_xpath(\"//div[@class='o-vendor fly-time']\"):\n",
    "                    duration.append(l.text)\n",
    "                    \n",
    "                for l in driver.find_elements_by_xpath(\"//span[@class='price-from-second']\"):\n",
    "                    price.append(l.text.replace('₹ ','').replace(',',''))       \n",
    "                    \n",
    "                for l in driver.find_elements_by_xpath(\"//div[@class='o-vendor flight-stop hasStop']\"):\n",
    "                    total_stop.append(l.text)\n",
    "                \n",
    "                    \n",
    "                df=pd.DataFrame({'Airline':airline,'Date':doj,'Source':origin,'Destination':f_destination,'Dep_Time':dep_time,\n",
    "                                 'Arrival_Time':arr_time,'Duration':duration,'Total_Stops':total_stop,'Price':price})\n",
    "                df.to_csv('Flightdata.csv')\n",
    "                print(len(price))"
   ]
  },
  {
   "cell_type": "code",
   "execution_count": 18,
   "id": "4ebd202e",
   "metadata": {},
   "outputs": [
    {
     "name": "stdout",
     "output_type": "stream",
     "text": [
      "153\n"
     ]
    }
   ],
   "source": [
    "print(len(price))"
   ]
  }
 ],
 "metadata": {
  "kernelspec": {
   "display_name": "Python 3",
   "language": "python",
   "name": "python3"
  },
  "language_info": {
   "codemirror_mode": {
    "name": "ipython",
    "version": 3
   },
   "file_extension": ".py",
   "mimetype": "text/x-python",
   "name": "python",
   "nbconvert_exporter": "python",
   "pygments_lexer": "ipython3",
   "version": "3.8.8"
  }
 },
 "nbformat": 4,
 "nbformat_minor": 5
}
